{
 "metadata": {
  "language_info": {
   "codemirror_mode": {
    "name": "ipython",
    "version": 3
   },
   "file_extension": ".py",
   "mimetype": "text/x-python",
   "name": "python",
   "nbconvert_exporter": "python",
   "pygments_lexer": "ipython3",
   "version": "3.8.5-final"
  },
  "orig_nbformat": 2,
  "kernelspec": {
   "name": "python38564bit5fcb3bb9862a451e9b6ae9706c499871",
   "display_name": "Python 3.8.5 64-bit",
   "language": "python"
  }
 },
 "nbformat": 4,
 "nbformat_minor": 2,
 "cells": [
  {
   "source": [
    "# Converter : Music Symbolic representations\n"
   ],
   "cell_type": "markdown",
   "metadata": {}
  },
  {
   "cell_type": "code",
   "execution_count": 1,
   "metadata": {},
   "outputs": [
    {
     "output_type": "stream",
     "name": "stderr",
     "text": [
      "/home/erik/.local/lib/python3.8/site-packages/librosa/util/decorators.py:9: NumbaDeprecationWarning: \u001b[1mAn import was requested from a module that has moved location.\nImport requested from: 'numba.decorators', please update to use 'numba.core.decorators' or pin to Numba version 0.48.0. This alias will not be present in Numba version 0.50.0.\u001b[0m\n  from numba.decorators import jit as optional_jit\n/home/erik/.local/lib/python3.8/site-packages/librosa/util/decorators.py:9: NumbaDeprecationWarning: \u001b[1mAn import was requested from a module that has moved location.\nImport of 'jit' requested from: 'numba.decorators', please update to use 'numba.core.decorators' or pin to Numba version 0.48.0. This alias will not be present in Numba version 0.50.0.\u001b[0m\n  from numba.decorators import jit as optional_jit\n"
     ]
    }
   ],
   "source": [
    "from midiConverter import Converter\n",
    "from Visualizer import Visualizer\n",
    "from MidiLikeSeq import MidiLikeSeq\n",
    "\n",
    "\n",
    "import pandas as pd\n",
    "import pretty_midi as pm\n",
    "from note_seq.protobuf import music_pb2\n",
    "import note_seq\n",
    "import glob"
   ]
  },
  {
   "cell_type": "code",
   "execution_count": 2,
   "metadata": {},
   "outputs": [
    {
     "output_type": "stream",
     "name": "stdout",
     "text": [
      "pitch: 37\nvelocity: 50\nend_time: 0.1363635\n\npitch: 38\nvelocity: 50\nstart_time: 0.272727\nend_time: 0.9545445\n\npitch: 39\nvelocity: 50\nstart_time: 0.9545445\nend_time: 1.090908\n\npitch: 39\nvelocity: 50\nstart_time: 1.090908\nend_time: 1.2272715\n\npitch: 40\nvelocity: 50\nstart_time: 1.2272715\nend_time: 1.3636350000000002\n\npitch: 39\nvelocity: 50\nstart_time: 1.3636350000000002\nend_time: 2.999997\n\npitch: 40\nvelocity: 50\nstart_time: 2.999997\nend_time: 3.1363605000000003\n\npitch: 36\nvelocity: 50\nstart_time: 3.1363605000000003\nend_time: 3.272724\n\npitch: 38\nvelocity: 50\nstart_time: 3.272724\nend_time: 3.4090875\n\npitch: 46\nvelocity: 50\nstart_time: 3.4090875\nend_time: 3.5454510000000004\n\npitch: 43\nvelocity: 50\nstart_time: 3.5454510000000004\nend_time: 3.6818145\n\npitch: 36\nvelocity: 50\nstart_time: 3.6818145\nend_time: 3.818178\n\npitch: 37\nvelocity: 50\nstart_time: 3.818178\nend_time: 3.9545415000000004\n\npitch: 38\nvelocity: 50\nstart_time: 3.9545415000000004\nend_time: 4.363632\n\npitch: 38\nvelocity: 50\nstart_time: 4.363632\nend_time: 4.4999955\n\npitch: 37\nvelocity: 50\nstart_time: 4.4999955\nend_time: 4.636359000000001\n\npitch: 36\nvelocity: 50\nstart_time: 4.636359000000001\nend_time: 6.545448\n\npitch: 39\nvelocity: 50\nstart_time: 6.6818115\nend_time: 6.818175\n\npitch: 39\nvelocity: 50\nstart_time: 7.090902000000001\nend_time: 7.227265500000001\n\npitch: 43\nvelocity: 50\nstart_time: 7.227265500000001\nend_time: 7.363629\n\npitch: 41\nvelocity: 50\nstart_time: 7.363629\nend_time: 7.4999925\n\npitch: 42\nvelocity: 50\nstart_time: 7.4999925\nend_time: 7.636356\n\npitch: 38\nvelocity: 50\nstart_time: 7.636356\nend_time: 7.7727195\n\npitch: 44\nvelocity: 50\nstart_time: 7.7727195\nend_time: 7.909083000000001\n\npitch: 42\nvelocity: 50\nstart_time: 7.909083000000001\nend_time: 8.0454465\n\npitch: 40\nvelocity: 50\nstart_time: 8.0454465\nend_time: 8.18181\n\npitch: 45\nvelocity: 50\nstart_time: 8.18181\nend_time: 8.727264\n\nPitch         37.000000\nVelocity      50.000000\nStart time     0.000000\nEnd time       0.136363\nName: 0, dtype: float64\nPitch         38.000000\nVelocity      50.000000\nStart time     0.272727\nEnd time       0.954545\nName: 1, dtype: float64\nPitch         39.000000\nVelocity      50.000000\nStart time     0.954545\nEnd time       1.090908\nName: 2, dtype: float64\nPitch         39.000000\nVelocity      50.000000\nStart time     1.090908\nEnd time       1.227272\nName: 3, dtype: float64\nPitch         40.000000\nVelocity      50.000000\nStart time     1.227272\nEnd time       1.363635\nName: 4, dtype: float64\nPitch         39.000000\nVelocity      50.000000\nStart time     1.363635\nEnd time       2.999997\nName: 5, dtype: float64\nPitch         40.000000\nVelocity      50.000000\nStart time     2.999997\nEnd time       3.136361\nName: 6, dtype: float64\nPitch         36.000000\nVelocity      50.000000\nStart time     3.136361\nEnd time       3.272724\nName: 7, dtype: float64\nPitch         38.000000\nVelocity      50.000000\nStart time     3.272724\nEnd time       3.409088\nName: 8, dtype: float64\nPitch         46.000000\nVelocity      50.000000\nStart time     3.409088\nEnd time       3.545451\nName: 9, dtype: float64\nPitch         43.000000\nVelocity      50.000000\nStart time     3.545451\nEnd time       3.681815\nName: 10, dtype: float64\nPitch         36.000000\nVelocity      50.000000\nStart time     3.681815\nEnd time       3.818178\nName: 11, dtype: float64\nPitch         37.000000\nVelocity      50.000000\nStart time     3.818178\nEnd time       3.954542\nName: 12, dtype: float64\nPitch         38.000000\nVelocity      50.000000\nStart time     3.954542\nEnd time       4.363632\nName: 13, dtype: float64\nPitch         38.000000\nVelocity      50.000000\nStart time     4.363632\nEnd time       4.499995\nName: 14, dtype: float64\nPitch         37.000000\nVelocity      50.000000\nStart time     4.499995\nEnd time       4.636359\nName: 15, dtype: float64\nPitch         36.000000\nVelocity      50.000000\nStart time     4.636359\nEnd time       6.545448\nName: 16, dtype: float64\nPitch         39.000000\nVelocity      50.000000\nStart time     6.681812\nEnd time       6.818175\nName: 17, dtype: float64\nPitch         39.000000\nVelocity      50.000000\nStart time     7.090902\nEnd time       7.227266\nName: 18, dtype: float64\nPitch         43.000000\nVelocity      50.000000\nStart time     7.227266\nEnd time       7.363629\nName: 19, dtype: float64\nPitch         41.000000\nVelocity      50.000000\nStart time     7.363629\nEnd time       7.499993\nName: 20, dtype: float64\nPitch         42.000000\nVelocity      50.000000\nStart time     7.499993\nEnd time       7.636356\nName: 21, dtype: float64\nPitch         38.000000\nVelocity      50.000000\nStart time     7.636356\nEnd time       7.772720\nName: 22, dtype: float64\nPitch         44.000000\nVelocity      50.000000\nStart time     7.772720\nEnd time       7.909083\nName: 23, dtype: float64\nPitch         42.000000\nVelocity      50.000000\nStart time     7.909083\nEnd time       8.045447\nName: 24, dtype: float64\nPitch         40.000000\nVelocity      50.000000\nStart time     8.045447\nEnd time       8.181810\nName: 25, dtype: float64\nPitch         45.000000\nVelocity      50.000000\nStart time     8.181810\nEnd time       8.727264\nName: 26, dtype: float64\n<MidiLikeSeq.MidiLikeSeq object at 0x7f77914c6280>\n<MidiLikeSeq.MidiLikeSeq object at 0x7f77914c6280>\n"
     ]
    }
   ],
   "source": [
    "mlseq = note_seq.midi_file_to_note_sequence('bassline.mid')\n",
    "\n",
    "\n",
    "c = Converter()\n",
    "\n",
    "midi_like_seq = c.midi2midi_like(\"bassline.mid\")\n",
    "midi_like_seq.show()\n",
    "\n",
    "\n",
    "\n"
   ]
  }
 ]
}